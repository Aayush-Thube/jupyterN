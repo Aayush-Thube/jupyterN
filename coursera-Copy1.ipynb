{
 "cells": [
  {
   "cell_type": "markdown",
   "id": "25d69c2e",
   "metadata": {},
   "source": [
    "# Data Science Tools and Ecosystems"
   ]
  },
  {
   "cell_type": "markdown",
   "id": "d0bd648b",
   "metadata": {},
   "source": [
    "In this notebook,Data science tools and ecosystems are summarized"
   ]
  },
  {
   "cell_type": "markdown",
   "id": "e7967669",
   "metadata": {},
   "source": [
    "**Objectives:**\n",
    "\n",
    "- List popular languages for Data Science\n",
    "- Explain the Data Science ecosystem\n",
    "- Introduce common tools and libraries used in Data Science\n"
   ]
  },
  {
   "cell_type": "markdown",
   "id": "edfb5760",
   "metadata": {},
   "source": [
    "Some of the popular languages that Data Scientists use are:\n",
    "\n",
    "1. Python\n",
    "2. R\n",
    "3. Julia\n"
   ]
  },
  {
   "cell_type": "markdown",
   "id": "f549f70c",
   "metadata": {},
   "source": [
    "Some commonly used libraries in data science include:\n",
    "\n",
    "1. Pandas\n",
    "2. NumPy\n",
    "3. Matplotlib\n"
   ]
  },
  {
   "cell_type": "markdown",
   "id": "3f0c5bed",
   "metadata": {},
   "source": [
    "| Data Science Tools |\n",
    "| ----------------- |\n",
    "| Jupyter Notebook  |\n",
    "| RStudio           |\n",
    "| Visual Studio Code|\n"
   ]
  },
  {
   "cell_type": "markdown",
   "id": "7d442b28",
   "metadata": {},
   "source": [
    "### Below are a few examples of evaluating arithmetic expressions in Python. \n",
    "\n",
    "Examples:\n",
    "1. Addition: 2 + 3 = 5\n",
    "2. Subtraction: 8 - 4 = 4\n",
    "3. Multiplication: 5 * 6 = 30\n",
    "4. Division: 10 / 2 = 5\n"
   ]
  },
  {
   "cell_type": "code",
   "execution_count": 4,
   "id": "eceefc26",
   "metadata": {},
   "outputs": [
    {
     "data": {
      "text/plain": [
       "17"
      ]
     },
     "execution_count": 4,
     "metadata": {},
     "output_type": "execute_result"
    }
   ],
   "source": [
    "# This is a simple arithmetic expression to multiply then add integers\n",
    "result = (3 * 4) + 5\n",
    "result\n"
   ]
  },
  {
   "cell_type": "code",
   "execution_count": 5,
   "id": "d581a901",
   "metadata": {},
   "outputs": [
    {
     "data": {
      "text/plain": [
       "3.3333333333333335"
      ]
     },
     "execution_count": 5,
     "metadata": {},
     "output_type": "execute_result"
    }
   ],
   "source": [
    "# This will convert 200 minutes to hours by dividing by 60\n",
    "minutes = 200\n",
    "hours = minutes / 60\n",
    "hours\n"
   ]
  },
  {
   "cell_type": "markdown",
   "id": "2886eaa1",
   "metadata": {},
   "source": [
    "## Author\n",
    "\n",
    "Aayush\n"
   ]
  },
  {
   "cell_type": "code",
   "execution_count": null,
   "id": "7811ab5f",
   "metadata": {},
   "outputs": [],
   "source": []
  }
 ],
 "metadata": {
  "kernelspec": {
   "display_name": "Python 3 (ipykernel)",
   "language": "python",
   "name": "python3"
  },
  "language_info": {
   "codemirror_mode": {
    "name": "ipython",
    "version": 3
   },
   "file_extension": ".py",
   "mimetype": "text/x-python",
   "name": "python",
   "nbconvert_exporter": "python",
   "pygments_lexer": "ipython3",
   "version": "3.10.9"
  }
 },
 "nbformat": 4,
 "nbformat_minor": 5
}
